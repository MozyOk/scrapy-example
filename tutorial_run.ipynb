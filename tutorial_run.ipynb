{
 "cells": [
  {
   "cell_type": "code",
   "execution_count": 1,
   "metadata": {
    "collapsed": true
   },
   "outputs": [],
   "source": [
    "cd tutorial"
   ]
  },
  {
   "cell_type": "code",
   "execution_count": 2,
   "metadata": {
    "collapsed": true
   },
   "outputs": [],
   "source": [
    "scrapy crawl quotes -o results/quotes.json --nolog"
   ]
  },
  {
   "cell_type": "code",
   "execution_count": 3,
   "metadata": {
    "collapsed": true
   },
   "outputs": [],
   "source": [
    "scrapy crawl quotes -o results/quotes.xml --nolog"
   ]
  },
  {
   "cell_type": "code",
   "execution_count": 4,
   "metadata": {
    "collapsed": true
   },
   "outputs": [],
   "source": [
    "scrapy crawl quotes -o results/quotes.jl --nolog"
   ]
  },
  {
   "cell_type": "code",
   "execution_count": 5,
   "metadata": {
    "collapsed": true
   },
   "outputs": [],
   "source": [
    "scrapy crawl quotes -o results/quotes.csv --nolog"
   ]
  },
  {
   "cell_type": "code",
   "execution_count": 6,
   "metadata": {
    "collapsed": true
   },
   "outputs": [],
   "source": [
    "scrapy crawl quotes -o results/quotes.pickle --nolog"
   ]
  },
  {
   "cell_type": "code",
   "execution_count": 7,
   "metadata": {},
   "outputs": [
    {
     "name": "stdout",
     "output_type": "stream",
     "text": [
      "author,tags,text\n",
      "Albert Einstein,\"change,deep-thoughts,thinking,world\",“The world as we have created it is a process of our thinking. It cannot be changed without changing our thinking.”\n",
      "J.K. Rowling,\"abilities,choices\",\"“It is our choices, Harry, that show what we truly are, far more than our abilities.”\"\n",
      "Albert Einstein,\"inspirational,life,live,miracle,miracles\",“There are only two ways to live your life. One is as though nothing is a miracle. The other is as though everything is a miracle.”\n",
      "Jane Austen,\"aliteracy,books,classic,humor\",\"“The person, be it gentleman or lady, who has not pleasure in a good novel, must be intolerably stupid.”\"\n",
      "Marilyn Monroe,\"be-yourself,inspirational\",\"“Imperfection is beauty, madness is genius and it's better to be absolutely ridiculous than absolutely boring.”\"\n",
      "Albert Einstein,\"adulthood,success,value\",“Try not to become a man of success. Rather become a man of value.”\n",
      "André Gide,\"life,love\",“It is better to be hated for what you are than to be loved for what you are not.”\n",
      "Thomas A. Edison,\"edison,failure,inspirational,paraphrased\",\"“I have not failed. I've just found 10,000 ways that won't work.”\"\n",
      "Eleanor Roosevelt,misattributed-eleanor-roosevelt,“A woman is like a tea bag; you never know how strong it is until it's in hot water.”\n",
      "Steve Martin,\"humor,obvious,simile\",\"“A day without sunshine is like, you know, night.”\"\n"
     ]
    }
   ],
   "source": [
    "scrapy crawl quotes -t csv -o stdout: --nolog"
   ]
  }
 ],
 "metadata": {
  "kernelspec": {
   "display_name": "Bash",
   "language": "bash",
   "name": "bash"
  },
  "language_info": {
   "codemirror_mode": "shell",
   "file_extension": ".sh",
   "mimetype": "text/x-sh",
   "name": "bash"
  }
 },
 "nbformat": 4,
 "nbformat_minor": 2
}
