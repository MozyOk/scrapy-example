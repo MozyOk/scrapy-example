{
 "cells": [
  {
   "cell_type": "code",
   "execution_count": 1,
   "metadata": {},
   "outputs": [
    {
     "name": "stdout",
     "output_type": "stream",
     "text": [
      "New Scrapy project 'yahoo_japan', using template directory '/usr/local/lib/python3.6/site-packages/scrapy/templates/project', created in:\n",
      "    /Users/mbp/Documents/my-project/scrapy-example/yahoo_japan\n",
      "\n",
      "You can start your first spider with:\n",
      "    cd yahoo_japan\n",
      "    scrapy genspider example example.com\n"
     ]
    }
   ],
   "source": [
    "scrapy startproject yahoo_japan"
   ]
  }
 ],
 "metadata": {
  "kernelspec": {
   "display_name": "Bash",
   "language": "bash",
   "name": "bash"
  },
  "language_info": {
   "codemirror_mode": "shell",
   "file_extension": ".sh",
   "mimetype": "text/x-sh",
   "name": "bash"
  }
 },
 "nbformat": 4,
 "nbformat_minor": 2
}
