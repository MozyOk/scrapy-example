{
 "cells": [
  {
   "cell_type": "code",
   "execution_count": 1,
   "metadata": {},
   "outputs": [
    {
     "name": "stdout",
     "output_type": "stream",
     "text": [
      "New Scrapy project 'tutorial', using template directory '/usr/local/lib/python3.6/site-packages/scrapy/templates/project', created in:\n",
      "    /Users/mbp/Documents/my-project/scrapy-example/tutorial\n",
      "\n",
      "You can start your first spider with:\n",
      "    cd tutorial\n",
      "    scrapy genspider example example.com\n"
     ]
    }
   ],
   "source": [
    "scrapy startproject tutorial"
   ]
  },
  {
   "cell_type": "code",
   "execution_count": 2,
   "metadata": {},
   "outputs": [
    {
     "name": "stdout",
     "output_type": "stream",
     "text": [
      "tutorial\n",
      "├── scrapy.cfg\n",
      "└── tutorial\n",
      "    ├── __init__.py\n",
      "    ├── __pycache__\n",
      "    ├── items.py\n",
      "    ├── middlewares.py\n",
      "    ├── pipelines.py\n",
      "    ├── settings.py\n",
      "    └── spiders\n",
      "        ├── __init__.py\n",
      "        └── __pycache__\n",
      "\n",
      "4 directories, 7 files\n"
     ]
    }
   ],
   "source": [
    "tree tutorial"
   ]
  },
  {
   "cell_type": "code",
   "execution_count": 3,
   "metadata": {},
   "outputs": [],
   "source": [
    "cd tutorial"
   ]
  },
  {
   "cell_type": "code",
   "execution_count": 4,
   "metadata": {},
   "outputs": [
    {
     "name": "stdout",
     "output_type": "stream",
     "text": [
      "Created spider 'quotes' using template 'basic' in module:\n",
      "  tutorial.spiders.quotes\n"
     ]
    }
   ],
   "source": [
    "scrapy genspider quotes quotes.toscrape.com"
   ]
  },
  {
   "cell_type": "code",
   "execution_count": 5,
   "metadata": {},
   "outputs": [
    {
     "name": "stdout",
     "output_type": "stream",
     "text": [
      "# -*- coding: utf-8 -*-\n",
      "import scrapy\n",
      "\n",
      "\n",
      "class QuotesSpider(scrapy.Spider):\n",
      "    name = 'quotes'\n",
      "    allowed_domains = ['quotes.toscrape.com']\n",
      "    start_urls = ['http://quotes.toscrape.com/']\n",
      "\n",
      "    def parse(self, response):\n",
      "        pass\n"
     ]
    }
   ],
   "source": [
    "cat tutorial/spiders/quotes.py"
   ]
  }
 ],
 "metadata": {
  "kernelspec": {
   "display_name": "Bash",
   "language": "bash",
   "name": "bash"
  },
  "language_info": {
   "codemirror_mode": "shell",
   "file_extension": ".sh",
   "mimetype": "text/x-sh",
   "name": "bash"
  }
 },
 "nbformat": 4,
 "nbformat_minor": 2
}
